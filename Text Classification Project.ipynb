{
 "cells": [
  {
   "cell_type": "markdown",
   "id": "937e7c69",
   "metadata": {},
   "source": [
    "# Text Classification Project"
   ]
  },
  {
   "cell_type": "code",
   "execution_count": 5,
   "id": "3c7eb3b4",
   "metadata": {},
   "outputs": [],
   "source": [
    "from sklearn.datasets import fetch_20newsgroups\n",
    "from nltk.corpus import stopwords\n",
    "from nltk.tokenize import word_tokenize\n",
    "from sklearn.model_selection import train_test_split\n",
    "import numpy as np\n",
    "import pandas as pd\n",
    "from sklearn.naive_bayes import MultinomialNB\n",
    "import string"
   ]
  },
  {
   "cell_type": "code",
   "execution_count": 6,
   "id": "b478d044",
   "metadata": {},
   "outputs": [],
   "source": [
    "datasett = fetch_20newsgroups() #importing dataset directly from sklearn instead of downloading and uploading it\n",
    "stopWords = set(stopwords.words('english')) #importing stopwords from nltk\n",
    "stopWords.update(list(string.punctuation)) #adding punctuations to the list as they are also stopwords\n",
    "more_words = np.loadtxt(\"stop_words_english.txt\",dtype = str ,delimiter = \" \") #found more stop words on web adding that also\n",
    "stopWords.update(more_words)"
   ]
  },
  {
   "cell_type": "code",
   "execution_count": 7,
   "id": "c6e25b22",
   "metadata": {},
   "outputs": [],
   "source": [
    "x = datasett.data\n",
    "y = datasett.target\n",
    "x_modified = [word_tokenize(i) for i in x]\n",
    "#x_modified is set of words after tokenization\n",
    "Xtrain,Xtest,Ytrain,Ytest = train_test_split(x_modified,y,random_state = 1)\n",
    "#spliting the data into xtrain,xtest,ytrain,ytest"
   ]
  },
  {
   "cell_type": "code",
   "execution_count": 8,
   "id": "df08089e",
   "metadata": {},
   "outputs": [],
   "source": [
    "useful_words = []\n",
    "for current in Xtrain:\n",
    "    for word in current:\n",
    "        if (word.lower() not in stopWords) and (len(word) != 1) and (len(word) != 2) and (word[0]!=\"'\") and (word!=\"n't\") and (word[0]!=\".\"):\n",
    "            useful_words.append(word)\n",
    "#this will store only usefull words in the list (neglecting stopwords)"
   ]
  },
  {
   "cell_type": "code",
   "execution_count": 10,
   "id": "a4c43727",
   "metadata": {},
   "outputs": [],
   "source": [
    "#this function is making a dictionary which is maintaining the freq of each word\n",
    "def freq_dict(Words):\n",
    "    dic = dict()\n",
    "    for word in Words: #interating each word\n",
    "        if word in dic.keys(): #if it is presnt\n",
    "            dic[word]+=1\n",
    "        else: #if not present\n",
    "            dic[word] = 1\n",
    "    return dic\n",
    "dic = freq_dict(useful_words) "
   ]
  },
  {
   "cell_type": "code",
   "execution_count": 12,
   "id": "532a8cba",
   "metadata": {},
   "outputs": [],
   "source": [
    "#now maintaining two different numpy arrays one for freq and one for words .. they will be sorted in decreasing order\n",
    "#further with respect the freq array\n",
    "freq = np.array([i for i in dic.values()])\n",
    "words = np.array([i for i in dic.keys()])\n",
    "freq = np.sort(freq)[::-1]\n",
    "words = words[np.argsort(freq)][::-1]\n",
    "# here we are firstly sorting the numpy array then reversing it for making it in decreasing fashion"
   ]
  },
  {
   "cell_type": "code",
   "execution_count": 21,
   "id": "461d9219",
   "metadata": {},
   "outputs": [
    {
     "data": {
      "image/png": "[encoded data removed]",
      "text/plain": [
       "<Figure size 1440x504 with 1 Axes>"
      ]
     },
     "metadata": {
      "needs_background": "light"
     },
     "output_type": "display_data"
    }
   ],
   "source": [
    "import matplotlib.pyplot as plt\n",
    "low = 0 #lower limit\n",
    "high = 3000 #upper limit\n",
    "Difference = 50 #difference between each xtick\n",
    "plt.figure(figsize=(20,7)) # adjusting figure size\n",
    "#ploting the graph\n",
    "plt.plot(np.arange(len(freq))[low:high] , freq[low:high], color = \"purple\")\n",
    "#labeling the graph\n",
    "plt.xlabel('Words(\"Nth word\") --->')\n",
    "plt.ylabel('frequency --->')\n",
    "plt.grid()\n",
    "plt.show()"
   ]
  },
  {
   "cell_type": "code",
   "execution_count": 32,
   "id": "aecea1fb",
   "metadata": {},
   "outputs": [],
   "source": [
    "#this function is the main working of Tect classification it will make a 2d array with data and features adn it will store occurence of every word at respective indexes \n",
    "def data_modifier(X_data,features):\n",
    "    #making a numpy array with all zeroes of size X_data, features length .. (2D)\n",
    "    modified_data = np.zeros((len(X_data),len(features)))\n",
    "    for i in range(len(X_data)): \n",
    "        current = X_data[i]\n",
    "        d = dict() #for maintaining the freq of every word\n",
    "        for word in current:\n",
    "            if word in d.keys():\n",
    "                d[word]+=1\n",
    "            else:\n",
    "                d[word]=1\n",
    "        for j in range(len(features)):\n",
    "            if features[j] in d.keys():\n",
    "                modified_data[i][j] = d[features[j]] #updating freq of each word present in current data \n",
    "    return modified_data"
   ]
  },
  {
   "cell_type": "code",
   "execution_count": 33,
   "id": "96784a34",
   "metadata": {},
   "outputs": [],
   "source": [
    "features=words[20:100000] # we are picking up top frequency words which are really usefull for classification\n",
    "x_train_modified = data_modifier(Xtrain, features)"
   ]
  },
  {
   "cell_type": "code",
   "execution_count": 35,
   "id": "6e46bc45",
   "metadata": {},
   "outputs": [],
   "source": [
    "x_test_modified= data_modifier(Xtest, features)"
   ]
  },
  {
   "cell_type": "markdown",
   "id": "263324cc",
   "metadata": {},
   "source": [
    "# Trying out Sklearn's multinomial classifier"
   ]
  },
  {
   "cell_type": "code",
   "execution_count": 38,
   "id": "ef9b08b9",
   "metadata": {},
   "outputs": [
    {
     "data": {
      "text/plain": [
       "0.8798161894662425"
      ]
     },
     "execution_count": 38,
     "metadata": {},
     "output_type": "execute_result"
    }
   ],
   "source": [
    "clf = MultinomialNB()\n",
    "clf.fit(x_train_modified,Ytrain)\n",
    "clf.score(x_test_modified,Ytest)"
   ]
  },
  {
   "cell_type": "markdown",
   "id": "589d6321",
   "metadata": {},
   "source": [
    "Note: the score from SKlearn's inbuilt multinomial classifier is coming to be 0.8798161894662425"
   ]
  },
  {
   "cell_type": "markdown",
   "id": "95e07125",
   "metadata": {},
   "source": [
    "# Creating our own classifier"
   ]
  },
  {
   "cell_type": "code",
   "execution_count": 45,
   "id": "da717bf4",
   "metadata": {},
   "outputs": [],
   "source": [
    "import math\n",
    "def fit(x_train,y_train): #this function will make the dictionary which will maintain freq of words w.r.t current class or current word\n",
    "    count = dict() #creating dictionary\n",
    "    for i in range(20): #we have total 20 newsgroups in the data\n",
    "        currentdoc = x_train[y_train == i] #ith newsgroup in xtrain\n",
    "        count[i] = dict()\n",
    "        count[i][\"Total\"] = 0 #total words in this newsgroup\n",
    "        for j in range(len(features)):\n",
    "            count[i][features[j]] = currentdoc[:,j].sum()#total words in current feature\n",
    "            count[i][\"Total\"] += count[i][features[j]] \n",
    "    return count\n",
    "\n",
    "\n",
    "def probability(dictionary,x,current_class):\n",
    "    prob_for_each_word = [] # we will maintain a list which will maintain prob for each word and at the end we will return its sum\n",
    "    for i in range(len(x)):\n",
    "        if x[i]!=0:\n",
    "            numerator = dictionary[current_class][features[i]]\n",
    "            dino = dictionary[current_class][\"Total\"]\n",
    "            prob = math.log(numerator + 1)- math.log(dino + len(x)) #as in log calculation log a - log b = log(a/b)\n",
    "            prob_for_each_word.append(prob)\n",
    "    return sum(prob_for_each_word)\n",
    "\n",
    "\n",
    "def predict_single(dictionary,x):\n",
    "    classes = dictionary.keys() #words\n",
    "    best_prob = -1000 #probability cant be negative\n",
    "    best_class = -1 #word with top probability\n",
    "    first_run = True #always update in first run\n",
    "    for current_class in classes: \n",
    "        #iterating each word\n",
    "        prob_current = probability(dictionary,x,current_class) #calculating probability\n",
    "        \n",
    "        if (first_run or prob_current > best_prob): #updating if firstrun or better\n",
    "            best_prob = prob_current\n",
    "            best_class = current_class\n",
    "        first_run = False\n",
    "    return best_class #returning best class\n",
    "\n",
    "\n",
    "def predict(x_test,dictionary):\n",
    "    y_pred = [] #list for y predict\n",
    "    \n",
    "    for x in x_test: #iterating x test\n",
    "        y_pred.append(predict_single(dictionary,x)) #for each x predicting the best possible newsletter\n",
    "        \n",
    "    return y_pred #returning Y predict"
   ]
  },
  {
   "cell_type": "code",
   "execution_count": 46,
   "id": "c0b832ed",
   "metadata": {},
   "outputs": [],
   "source": [
    "dictionary = fit(x_train_modified,Ytrain) \n",
    "Y_pred = predict(x_test_modified,dictionary) "
   ]
  },
  {
   "cell_type": "code",
   "execution_count": 52,
   "id": "3b1e46da",
   "metadata": {},
   "outputs": [
    {
     "name": "stdout",
     "output_type": "stream",
     "text": [
      "103    0    0    0    0    0    0    0    0    0    0    0    0    0    0    5    0    3    0    3    \n",
      "0    112    1    6    2    19    1    0    0    0    0    6    0    1    2    1    0    0    1    0    \n",
      "0    3    84    10    1    34    0    1    0    0    0    6    0    0    0    0    0    0    0    0    \n",
      "1    3    1    120    5    7    3    0    0    0    0    7    3    0    0    1    0    1    0    0    \n",
      "0    2    0    2    122    2    2    0    0    1    0    4    0    1    0    0    0    0    2    0    \n",
      "0    1    0    0    2    147    0    0    0    0    0    0    0    1    0    0    0    0    2    0    \n",
      "0    3    0    8    4    2    87    3    1    2    4    7    11    1    3    1    3    4    3    0    \n",
      "0    0    0    1    0    0    3    118    1    0    1    0    3    0    2    1    2    1    4    0    \n",
      "0    0    0    0    0    0    3    0    124    0    0    0    0    0    0    0    3    1    0    0    \n",
      "0    1    0    0    0    0    0    0    0    125    3    0    0    1    0    1    1    0    3    0    \n",
      "0    0    0    0    0    0    0    1    0    0    133    0    0    1    0    0    0    1    0    0    \n",
      "0    0    0    0    0    0    0    0    0    0    0    145    0    0    0    0    0    0    0    0    \n",
      "0    4    0    9    3    4    1    2    0    0    0    7    119    0    4    0    1    3    0    0    \n",
      "0    0    0    0    0    1    1    0    0    0    0    0    0    145    3    0    0    0    1    0    \n",
      "0    2    0    0    0    1    0    0    0    0    0    1    0    0    149    0    1    1    0    0    \n",
      "0    0    0    0    0    1    0    0    0    0    0    0    0    0    0    152    1    2    3    0    \n",
      "0    0    0    0    0    0    0    0    0    0    0    2    0    0    0    0    136    0    2    0    \n",
      "1    0    0    0    0    0    0    0    0    0    0    0    0    0    0    2    0    144    2    0    \n",
      "0    1    0    0    0    0    0    0    0    3    1    2    0    0    0    1    3    6    121    0    \n",
      "10    1    0    0    0    0    0    0    0    0    0    0    0    0    2    21    4    8    3    52    \n"
     ]
    }
   ],
   "source": [
    "from sklearn.metrics import confusion_matrix #printing confusion matrix\n",
    "for i in confusion_matrix(y_true=Ytest, y_pred=Y_pred):\n",
    "    for j in i:\n",
    "        print(j, end=\"    \")\n",
    "    print()"
   ]
  },
  {
   "cell_type": "code",
   "execution_count": 53,
   "id": "58da7284",
   "metadata": {},
   "outputs": [
    {
     "name": "stdout",
     "output_type": "stream",
     "text": [
      "              precision    recall  f1-score   support\n",
      "\n",
      "           0       0.90      0.90      0.90       114\n",
      "           1       0.84      0.74      0.79       152\n",
      "           2       0.98      0.60      0.75       139\n",
      "           3       0.77      0.79      0.78       152\n",
      "           4       0.88      0.88      0.88       138\n",
      "           5       0.67      0.96      0.79       153\n",
      "           6       0.86      0.59      0.70       147\n",
      "           7       0.94      0.86      0.90       137\n",
      "           8       0.98      0.95      0.96       131\n",
      "           9       0.95      0.93      0.94       135\n",
      "          10       0.94      0.98      0.96       136\n",
      "          11       0.78      1.00      0.87       145\n",
      "          12       0.88      0.76      0.81       157\n",
      "          13       0.96      0.96      0.96       151\n",
      "          14       0.90      0.96      0.93       155\n",
      "          15       0.82      0.96      0.88       159\n",
      "          16       0.88      0.97      0.92       140\n",
      "          17       0.82      0.97      0.89       149\n",
      "          18       0.82      0.88      0.85       138\n",
      "          19       0.95      0.51      0.67       101\n",
      "\n",
      "    accuracy                           0.86      2829\n",
      "   macro avg       0.88      0.86      0.86      2829\n",
      "weighted avg       0.87      0.86      0.86      2829\n",
      "\n"
     ]
    }
   ],
   "source": [
    "from sklearn.metrics import classification_report\n",
    "#printing the classification report for our own naive bayes classifier.\n",
    "print(classification_report(y_true=Ytest, y_pred=Y_pred))"
   ]
  },
  {
   "cell_type": "markdown",
   "id": "e868899c",
   "metadata": {},
   "source": [
    "# Observations\n"
   ]
  },
  {
   "cell_type": "markdown",
   "id": "58b68d0b",
   "metadata": {},
   "source": [
    "Note: Accuracy for both the algorithms are almost same the inbuilt algorithm is showing 0.87 and our own algorithm is showing 0.86"
   ]
  }
 ],
 "metadata": {
  "kernelspec": {
   "display_name": "Python 3 (ipykernel)",
   "language": "python",
   "name": "python3"
  },
  "language_info": {
   "codemirror_mode": {
    "name": "ipython",
    "version": 3
   },
   "file_extension": ".py",
   "mimetype": "text/x-python",
   "name": "python",
   "nbconvert_exporter": "python",
   "pygments_lexer": "ipython3",
   "version": "3.9.7"
  }
 },
 "nbformat": 4,
 "nbformat_minor": 5
}
